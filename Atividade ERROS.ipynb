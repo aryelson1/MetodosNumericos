{
 "cells": [
  {
   "cell_type": "code",
   "execution_count": 26,
   "id": "0099ee71",
   "metadata": {},
   "outputs": [],
   "source": [
    "import numpy as np\n",
    "import matplotlib.pyplot as plt"
   ]
  },
  {
   "cell_type": "markdown",
   "id": "d0222566",
   "metadata": {},
   "source": [
    "* Exercício 1.1 O método “divisão e média”, um método antigo para estimação de raiz\n",
    "quadrada de um número positivo a, pode ser formulado como\n",
    "\n",
    "\n",
    "xi+1 = ( xi + a/xi ) / 2\n",
    "Calcule o erro relativo da aproximação para as 10 primeiras iterações.\n"
   ]
  },
  {
   "cell_type": "code",
   "execution_count": 8,
   "id": "9ce0d4aa",
   "metadata": {},
   "outputs": [
    {
     "name": "stdout",
     "output_type": "stream",
     "text": [
      "1.5700924586837748e-14\n"
     ]
    }
   ],
   "source": [
    "a = 2\n",
    "value = np.sqrt(a)\n",
    "valor_aprox = 1\n",
    "\n",
    "for i in range(10):\n",
    "    valor_aprox = (valor_aprox + (a / valor_aprox)) / 2\n",
    "\n",
    "print( (abs(value - valor_aprox) / value )* 100)\n",
    "    "
   ]
  },
  {
   "cell_type": "markdown",
   "id": "fddb3e99",
   "metadata": {},
   "source": [
    "* Exercício 1.2 Para computadores, o épsilon da máquina, ε, pode ser definido como o menor\n",
    "número que, adicionado a um, retorna um número maior que um, como definimos anteriormente.\n",
    "Usando o algoritmo abaixo, implemente um programa que calcula o épsilon da sua máquina.\n",
    "Compare com os resultados obtidos via numpy.\n",
    "\n",
    "    - Passo 1: Defina e = 1\n",
    "    - Passo 2: Se 1 + e for menor ou igual a 1, vá para o Passo 5;\n",
    "    - caso contrário, vá ao Passo 3\n",
    "    - Passo 3: e = e/2\n",
    "    - Passo 4: Retorne ao Passo 2\n",
    "    - Passo 5: e = 2 x e"
   ]
  },
  {
   "cell_type": "code",
   "execution_count": 16,
   "id": "ce07f312",
   "metadata": {},
   "outputs": [
    {
     "name": "stdout",
     "output_type": "stream",
     "text": [
      "e :  2.220446049250313e-16\n",
      "Np:  2.220446049250313e-16\n"
     ]
    }
   ],
   "source": [
    "e = np.float64(1)\n",
    "\n",
    "while True:\n",
    "    if  (e + 1) <= 1:\n",
    "        e *= 2\n",
    "        break\n",
    "    e = e/2\n",
    "\n",
    "print(\"e : \", e)\n",
    "print(\"Np: \", np.finfo(dtype=np.float64).eps)"
   ]
  },
  {
   "cell_type": "markdown",
   "id": "941e23b3",
   "metadata": {},
   "source": [
    "* Exercício 1.3 Considere o seguinte processo iterativo:"
   ]
  },
  {
   "cell_type": "code",
   "execution_count": 17,
   "id": "348add89",
   "metadata": {},
   "outputs": [
    {
     "name": "stdout",
     "output_type": "stream",
     "text": [
      "0.33333333333333326\n",
      "0.33333333333333304\n",
      "0.33333333333333215\n",
      "0.3333333333333286\n",
      "0.3333333333333144\n"
     ]
    }
   ],
   "source": [
    "x = 1/3\n",
    "\n",
    "for i in range(5):\n",
    "    x = 4*x-1\n",
    "    print(x)"
   ]
  },
  {
   "cell_type": "markdown",
   "id": "84d715bc",
   "metadata": {},
   "source": [
    "R: Ocorre uma divergencia no arrendodamento e algumas casas decimais vão sendo modificadas."
   ]
  },
  {
   "cell_type": "markdown",
   "id": "b49fbae3",
   "metadata": {},
   "source": [
    "* Exercício 1.4"
   ]
  },
  {
   "cell_type": "code",
   "execution_count": 19,
   "id": "65916ed3",
   "metadata": {},
   "outputs": [
    {
     "name": "stdout",
     "output_type": "stream",
     "text": [
      "Valor:  0.1\n",
      "EQ-1 : 0.9999546021312976\n",
      "EQ-2: 0.9999546021312976\n",
      "Valor:  0.01\n",
      "EQ-1 : 1.0\n",
      "EQ-2: 1.0\n",
      "Valor:  0.0001\n",
      "EQ-1 : nan\n",
      "EQ-2: 1.0\n"
     ]
    },
    {
     "name": "stderr",
     "output_type": "stream",
     "text": [
      "D:\\Users\\202021~1\\AppData\\Local\\Temp/ipykernel_13304/396059201.py:5: RuntimeWarning: overflow encountered in exp\n",
      "  result1 = np.exp(1/u) / (1 + np.exp(1/u))\n",
      "D:\\Users\\202021~1\\AppData\\Local\\Temp/ipykernel_13304/396059201.py:5: RuntimeWarning: invalid value encountered in double_scalars\n",
      "  result1 = np.exp(1/u) / (1 + np.exp(1/u))\n"
     ]
    }
   ],
   "source": [
    "i = [0.1,0.01, 0.0001]\n",
    "\n",
    "for u in i:\n",
    "    print(\"Valor: \", u)\n",
    "    result1 = np.exp(1/u) / (1 + np.exp(1/u))\n",
    "    result2 = 1 / (np.exp(-1/u) + 1)\n",
    "    print(\"EQ-1 :\", result1)\n",
    "    print(\"EQ-2:\", result2)"
   ]
  },
  {
   "cell_type": "markdown",
   "id": "537e00dc",
   "metadata": {},
   "source": [
    "R: a equação 2 é melhor para numeros muito pequenos, já que ela sempre vai arrendondando para 1."
   ]
  },
  {
   "cell_type": "markdown",
   "id": "fb76c502",
   "metadata": {},
   "source": [
    "* Exercício 1.5"
   ]
  },
  {
   "cell_type": "code",
   "execution_count": 24,
   "id": "6097b549",
   "metadata": {},
   "outputs": [
    {
     "name": "stdout",
     "output_type": "stream",
     "text": [
      "1.000088900582341\n",
      "1.1102230246251565\n",
      "0.0\n"
     ]
    }
   ],
   "source": [
    "i = [np.float64(10**-12), 10**-15, 10**-17]\n",
    "\n",
    "for u in i:\n",
    "    print( ((1+u) - 1 ) / u )\n"
   ]
  },
  {
   "cell_type": "markdown",
   "id": "2f9bbbe9",
   "metadata": {},
   "source": [
    "Na vida real somar e depois subtrair não altera o resultado, mas o computador entende de forma diferente, para todos os resultado serem 1, é necessario que a subtração venha antes da soma."
   ]
  },
  {
   "cell_type": "code",
   "execution_count": 40,
   "id": "3b310cd2",
   "metadata": {},
   "outputs": [],
   "source": [
    "import math\n",
    "\n",
    "def taylor(x , n):\n",
    "   soma = 0\n",
    "   for i in range(n+1):\n",
    "     soma += (math.pow(-1,i)) * ( (x**(2*i + 1)) / (2 * i + 1) )\n",
    "   return soma\n",
    "\n",
    "def FormuladeMachin(i):\n",
    "   r1 = taylor(1/5, i)\n",
    "   r2 = taylor(1/239, i)\n",
    "   return 4 *(4 * r1 - r2)\n",
    "\n",
    "def FormuladeHutton(i):\n",
    "   r1 = taylor(1/2, i)\n",
    "   r2 = taylor(1/3, i)\n",
    "   return 4 *( r1 + r2)\n",
    "\n",
    "\n",
    "def FormuladeClausen(i):\n",
    "   r1 = taylor(1/3, i)\n",
    "   r2 = taylor(1/7, i)\n",
    "   return 4 *( 2 * r1 + r2)\n",
    "\n",
    "def FormuladeDase(i):\n",
    "   r1 = taylor(1/2, i)\n",
    "   r2 = taylor(1/5, i)\n",
    "   r3 = taylor(1/8, i)\n",
    "   return 4 *(  r1 + r2 + r3)\n",
    "\n"
   ]
  },
  {
   "cell_type": "code",
   "execution_count": 34,
   "id": "06b96611",
   "metadata": {},
   "outputs": [
    {
     "data": {
      "text/plain": [
       "<function matplotlib.pyplot.show(close=None, block=None)>"
      ]
     },
     "execution_count": 34,
     "metadata": {},
     "output_type": "execute_result"
    },
    {
     "data": {
      "image/png": "[encoded data removed]",
      "text/plain": [
       "<Figure size 432x288 with 1 Axes>"
      ]
     },
     "metadata": {
      "needs_background": "light"
     },
     "output_type": "display_data"
    }
   ],
   "source": [
    "amostragem = np.arange(1,22,1)\n",
    "erros = list()\n",
    "\n",
    "for i in amostragem:\n",
    "    base = FormuladeMachin(i)\n",
    "    erros.append(abs(base-np.pi)/base * 100)\n",
    "    \n",
    "plt.plot(erros, linestyle = 'dashed')\n",
    "plt.show"
   ]
  },
  {
   "cell_type": "code",
   "execution_count": 41,
   "id": "a3c87260",
   "metadata": {},
   "outputs": [
    {
     "data": {
      "text/plain": [
       "<function matplotlib.pyplot.show(close=None, block=None)>"
      ]
     },
     "execution_count": 41,
     "metadata": {},
     "output_type": "execute_result"
    },
    {
     "data": {
      "image/png": "[encoded data removed]",
      "text/plain": [
       "<Figure size 432x288 with 1 Axes>"
      ]
     },
     "metadata": {
      "needs_background": "light"
     },
     "output_type": "display_data"
    }
   ],
   "source": [
    "amostragem = np.arange(1,22,1)\n",
    "errosH = list()\n",
    "\n",
    "for i in amostragem:\n",
    "    base = FormuladeHutton(i)\n",
    "    errosH.append(abs(base-np.pi)/base * 100)\n",
    "    \n",
    "plt.plot(errosH, linestyle = 'dashed')\n",
    "plt.show"
   ]
  },
  {
   "cell_type": "code",
   "execution_count": 42,
   "id": "a5602ccd",
   "metadata": {},
   "outputs": [
    {
     "data": {
      "text/plain": [
       "<function matplotlib.pyplot.show(close=None, block=None)>"
      ]
     },
     "execution_count": 42,
     "metadata": {},
     "output_type": "execute_result"
    },
    {
     "data": {
      "image/png": "[encoded data removed]",
      "text/plain": [
       "<Figure size 432x288 with 1 Axes>"
      ]
     },
     "metadata": {
      "needs_background": "light"
     },
     "output_type": "display_data"
    }
   ],
   "source": [
    "amostragem = np.arange(1,22,1)\n",
    "erros = list()\n",
    "\n",
    "for i in amostragem:\n",
    "    base = FormuladeClausen(i)\n",
    "    erros.append(abs(base-np.pi)/base * 100)\n",
    "    \n",
    "plt.plot(erros, linestyle = 'dashed')\n",
    "plt.show"
   ]
  },
  {
   "cell_type": "code",
   "execution_count": 43,
   "id": "4d229df6",
   "metadata": {},
   "outputs": [
    {
     "data": {
      "text/plain": [
       "<function matplotlib.pyplot.show(close=None, block=None)>"
      ]
     },
     "execution_count": 43,
     "metadata": {},
     "output_type": "execute_result"
    },
    {
     "data": {
      "image/png": "[encoded data removed]",
      "text/plain": [
       "<Figure size 432x288 with 1 Axes>"
      ]
     },
     "metadata": {
      "needs_background": "light"
     },
     "output_type": "display_data"
    }
   ],
   "source": [
    "amostragem = np.arange(1,22,1)\n",
    "erros = list()\n",
    "\n",
    "for i in amostragem:\n",
    "    base = FormuladeDase(i)\n",
    "    erros.append(abs(base-np.pi)/base * 100)\n",
    "    \n",
    "plt.plot(erros, linestyle = 'dashed')\n",
    "plt.show"
   ]
  },
  {
   "cell_type": "code",
   "execution_count": null,
   "id": "70c32562",
   "metadata": {},
   "outputs": [],
   "source": []
  }
 ],
 "metadata": {
  "kernelspec": {
   "display_name": "Python 3 (ipykernel)",
   "language": "python",
   "name": "python3"
  },
  "language_info": {
   "codemirror_mode": {
    "name": "ipython",
    "version": 3
   },
   "file_extension": ".py",
   "mimetype": "text/x-python",
   "name": "python",
   "nbconvert_exporter": "python",
   "pygments_lexer": "ipython3",
   "version": "3.9.7"
  }
 },
 "nbformat": 4,
 "nbformat_minor": 5
}
