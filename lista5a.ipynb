{
 "cells": [
  {
   "cell_type": "markdown",
   "id": "188b8813",
   "metadata": {},
   "source": [
    "1. Implemente os algoritmos da iteração de ponto fixo, Newton-Raphson e secante usando somente a biblioteca Numpy."
   ]
  },
  {
   "cell_type": "code",
   "execution_count": 1,
   "id": "57c36837",
   "metadata": {},
   "outputs": [
    {
     "name": "stdout",
     "output_type": "stream",
     "text": [
      "O método não convergiu\n",
      "A raiz é: -1.0 encontrada em 2 iterações\n",
      "A raiz é: -1.0 encontrada em 3 iterações\n"
     ]
    },
    {
     "name": "stderr",
     "output_type": "stream",
     "text": [
      "C:\\Users\\Admin\\AppData\\Local\\Temp\\ipykernel_1928\\3446630547.py:5: RuntimeWarning: overflow encountered in scalar power\n",
      "  return x**3 - x**2 + 2\n",
      "C:\\Users\\Admin\\AppData\\Local\\Temp\\ipykernel_1928\\3446630547.py:5: RuntimeWarning: invalid value encountered in scalar subtract\n",
      "  return x**3 - x**2 + 2\n"
     ]
    }
   ],
   "source": [
    "import numpy as np\n",
    "\n",
    "# função de teste f(x)\n",
    "def f(x):\n",
    "    return x**3 - x**2 + 2\n",
    "\n",
    "def ponto_fixo(x0, tol, max_iter):\n",
    "    x = np.zeros(max_iter)\n",
    "    x[0] = x0\n",
    "    for i in range(1, max_iter):\n",
    "        x[i] = f(x[i-1])\n",
    "        if abs(x[i] - x[i-1]) < tol:\n",
    "            return x[i], i\n",
    "    return None, max_iter\n",
    "\n",
    "def newton_raphson(x0, tol, max_iter):\n",
    "    x = np.zeros(max_iter)\n",
    "    x[0] = x0\n",
    "    for i in range(1, max_iter):\n",
    "        x[i] = x[i-1] - f(x[i-1]) / (3*x[i-1]**2 - 2*x[i-1])\n",
    "        if abs(x[i] - x[i-1]) < tol:\n",
    "            return x[i], i\n",
    "    return None, max_iter\n",
    "\n",
    "def secante(x0, x1, tol, max_iter):\n",
    "    x = np.zeros(max_iter)\n",
    "    x[0] = x0\n",
    "    x[1] = x1\n",
    "    for i in range(2, max_iter):\n",
    "        x[i] = x[i-1] - f(x[i-1])*(x[i-1]-x[i-2])/(f(x[i-1])-f(x[i-2]))\n",
    "        if abs(x[i] - x[i-1]) < tol:\n",
    "            return x[i], i\n",
    "    return None, max_iter\n",
    "\n",
    "#teste  ponto fixo\n",
    "x0 = 1.5\n",
    "tol = 1e-6\n",
    "max_iter = 50\n",
    "raiz, n_iter = ponto_fixo(x0, tol, max_iter)\n",
    "if raiz is not None:\n",
    "    print(f\"A raiz é: {raiz} encontrada em {n_iter} iterações\")\n",
    "else:\n",
    "    print(\"O método não convergiu\")\n",
    "\n",
    "#teste newton raphson\n",
    "x0 = 1\n",
    "tol = 1e-6\n",
    "max_iter = 50\n",
    "raiz, n_iter = newton_raphson(x0, tol, max_iter)\n",
    "if raiz is not None:\n",
    "    print(f\"A raiz é: {raiz} encontrada em {n_iter} iterações\")\n",
    "else:\n",
    "    print(\"O método não convergiu\")\n",
    "\n",
    "#teste secante\n",
    "x0 = 0\n",
    "x1 = 2\n",
    "tol = 1e-6\n",
    "max_iter = 50\n",
    "raiz, n_iter = secante(x0, x1, tol, max_iter)\n",
    "if raiz is not None:\n",
    "    print(f\"A raiz é: {raiz} encontrada em {n_iter} iterações\")\n",
    "else:\n",
    "    print(\"O método não convergiu\")\n"
   ]
  },
  {
   "cell_type": "markdown",
   "id": "c506208d",
   "metadata": {},
   "source": [
    "2. Use a iteração de ponto fixo simples para localizar a raiz de f (x) = 2 sin(p x)− x, tendo x0 = 0, 5 e adotando como critério de parada o erro ea ≤ 0, 001%."
   ]
  },
  {
   "cell_type": "code",
   "execution_count": 2,
   "id": "870ae6a8",
   "metadata": {},
   "outputs": [
    {
     "name": "stdout",
     "output_type": "stream",
     "text": [
      "A raiz é: -0.85837 encontrada em 1875 iterações\n"
     ]
    }
   ],
   "source": [
    "#função f(x)\n",
    "def f(x, p):\n",
    "    return 2*np.sin(p*x) - x\n",
    "\n",
    "#função g(x)\n",
    "def g(x, p):\n",
    "    return 2*np.sin(p*x)\n",
    "\n",
    "def ponto_fixo(x0, p, tol):\n",
    "    x_ant = x0\n",
    "    x_atual = g(x_ant, p)\n",
    "    n_iter = 0\n",
    "    while abs((x_atual - x_ant) / x_atual) > tol:\n",
    "        x_ant = x_atual\n",
    "        x_atual = g(x_ant, p)\n",
    "        n_iter += 1\n",
    "    return x_atual, n_iter\n",
    "\n",
    "x0 = 0.5\n",
    "p = np.pi\n",
    "tol = 0.001\n",
    "\n",
    "raiz, n_iter = ponto_fixo(x0, p, tol)\n",
    "\n",
    "print(f\"A raiz é: {raiz:.5f} encontrada em {n_iter} iterações\")"
   ]
  },
  {
   "cell_type": "markdown",
   "id": "a7655c2c",
   "metadata": {},
   "source": [
    "3. Determine a maior raiz real de f (x) = 2x 3 − 11.7x 2 + 17.7x − 5\n",
    "(a) Graficamente;\n",
    "(b) Pelo método da iteração de ponto fixo (três iterações, x0 = 3)( certifique-se de desenvolver\n",
    "uma solução que convirja para a raiz);\n",
    "(c) Pelo método de Newton-Raphson (três iterações, x0 = 3);\n",
    "(d) Pelo método da secante (três iterações, x−1 = 3, x0 = 4)."
   ]
  },
  {
   "cell_type": "code",
   "execution_count": 3,
   "id": "3bbc6941",
   "metadata": {},
   "outputs": [
    {
     "data": {
      "image/png": "[encoded data removed]",
      "text/plain": [
       "<Figure size 640x480 with 1 Axes>"
      ]
     },
     "metadata": {},
     "output_type": "display_data"
    }
   ],
   "source": [
    "# a)\n",
    "import matplotlib.pyplot as plt\n",
    "\n",
    "# função f(x)\n",
    "def f(x):\n",
    "    return 2*x**3 - 11.7*x**2 + 17.7*x - 5\n",
    "\n",
    "x = np.linspace(0, 5, 1000)\n",
    "y = f(x)\n",
    "plt.plot(x, y)\n",
    "plt.xlabel('x')\n",
    "plt.ylabel('f(x)')\n",
    "plt.grid()\n",
    "plt.show()"
   ]
  },
  {
   "cell_type": "code",
   "execution_count": 4,
   "id": "55c7c05e",
   "metadata": {},
   "outputs": [
    {
     "name": "stdout",
     "output_type": "stream",
     "text": [
      "A maior raiz real encontrada pelo método da iteração de ponto fixo é: 3.40621\n"
     ]
    }
   ],
   "source": [
    "#B)\n",
    "def g(x):\n",
    "    return (11.7*x**2 - 17.7*x + 5) / (2*x**2)\n",
    "\n",
    "def ponto_fixo(x0, n_iter):\n",
    "    x = x0\n",
    "    for i in range(n_iter):\n",
    "        x = g(x)\n",
    "    return x\n",
    "\n",
    "x0 = 3\n",
    "n_iter = 3\n",
    "\n",
    "\n",
    "raiz = ponto_fixo(x0, n_iter)\n",
    "\n",
    "print(f\"A maior raiz real encontrada pelo método da iteração de ponto fixo é: {raiz:.5f}\")\n"
   ]
  },
  {
   "cell_type": "code",
   "execution_count": 5,
   "id": "a56b35a9",
   "metadata": {},
   "outputs": [
    {
     "name": "stdout",
     "output_type": "stream",
     "text": [
      "A maior raiz real encontrada pelo método de Newton-Raphson é: 3.79293\n"
     ]
    }
   ],
   "source": [
    "#C)\n",
    "# derivada da função f(x)\n",
    "def df(x):\n",
    "    return 6*x**2 - 23.4*x + 17.7\n",
    "\n",
    "def newton_raphson(x0, n_iter):\n",
    "    x = x0\n",
    "    for i in range(n_iter):\n",
    "        x = x - f(x) / df(x)\n",
    "    return x\n",
    "\n",
    "x0 = 3\n",
    "n_iter = 3\n",
    "\n",
    "raiz = newton_raphson(x0, n_iter)\n",
    "\n",
    "print(f\"A maior raiz real encontrada pelo método de Newton-Raphson é: {raiz:.5f}\")\n"
   ]
  },
  {
   "cell_type": "code",
   "execution_count": 6,
   "id": "bb0d647a",
   "metadata": {},
   "outputs": [
    {
     "name": "stdout",
     "output_type": "stream",
     "text": [
      "A maior raiz real encontrada pelo método de Newton-Raphson é: 3.58628\n"
     ]
    }
   ],
   "source": [
    "#D)\n",
    "# Implementação do método da secante\n",
    "def secante(x0, x1, n_iter):\n",
    "    for i in range(n_iter):\n",
    "        x2 = x1 - f(x1)*(x1-x0)/(f(x1)-f(x0))\n",
    "        x0 = x1\n",
    "        x1 = x2\n",
    "    return x2\n",
    "\n",
    "# Definindo os parâmetros\n",
    "x0 = 3\n",
    "x1 = 4\n",
    "n_iter = 3\n",
    "\n",
    "# Resolvendo\n",
    "raiz = secante(x0, x1, n_iter)\n",
    "\n",
    "print(f\"A maior raiz real encontrada pelo método de Newton-Raphson é: {raiz:.5f}\")"
   ]
  },
  {
   "cell_type": "markdown",
   "id": "745c7709",
   "metadata": {},
   "source": [
    "4. Compare os métodos da bisseção, falsa posição, do ponto fixo, de Newton-Raphson e da secante, localizando a raiz das seguintes equações:\n",
    "(a) f1 (x) = 2x 4 + 4x 3 + 3x 2 − 10x − 15, com x ∗ ∈ [0, 3]\n",
    "(b) f2 (x) = (x + 3)(x + 1)(x − 2) 3 , com x ∗ ∈ [0, 5]\n",
    "(c) f3 (x) = 5x 3 + x 2 − e 1−2x + cos(x) + 20, com x ∗ ∈ [−5, 5]\n",
    "(d) f4 (x) = sin(x)x + 4, com x ∗ ∈ [1, 5]\n",
    "(e) f5 (x) = (x − 3) 5 ln(x), com x ∗ ∈ [2, 5]\n",
    "(f) f6 (x) = x 10 − 1, com x ∗ ∈ [0.8, 1.2]\n",
    "Para as avaliações, deve-se considerar:\n",
    "• o número máximo de iterações de todos os métodos testados não pode ultrapassar 200;\n",
    "• a tolerância deve ser de 10−10;\n",
    "• para os métodos abertos, escolha os limites do intervalo, respectivamente como x?1 e x0\n",
    ".\n",
    "Para cada método, estamos interessados em comparar:\n",
    "• raiz;\n",
    "• número de iterações até o critério de parada;\n",
    "• se houve erro de convergência;\n",
    "• tempo de cálculo (procure como calcular tempo de execução usando jupyter notebooks,\n",
    "como %timeit)."
   ]
  },
  {
   "cell_type": "code",
   "execution_count": 7,
   "id": "c74ccb2f",
   "metadata": {},
   "outputs": [
    {
     "name": "stdout",
     "output_type": "stream",
     "text": [
      "Tempo de execução de bissecao: 0.00000000 segundos\n",
      "Tempo de execução de falsa_posicao: 0.00000000 segundos\n",
      "O método do ponto fixo não convergiu\n",
      "Tempo de execução de ponto_fixo: 0.00099993 segundos\n",
      "Tempo de execução de newton_raphson: 0.00000000 segundos\n",
      "Tempo de execução de secante: 0.00000000 segundos\n",
      "Método da bisseção:\n",
      "Raiz encontrada: 4.323239543708041\n",
      "Número de iterações: 33\n",
      "\n",
      "Método da falsa posição:\n",
      "Raiz encontrada: 4.323239543733132\n",
      "Número de iterações: 8\n",
      "\n",
      "Método do ponto fixo:\n",
      "Raiz encontrada: None\n",
      "Número de iterações: 200\n",
      "\n",
      "Método de Newton-Raphson:\n",
      "Raiz encontrada: -4.323239543713715\n",
      "Número de iterações: 5\n",
      "\n",
      "Método da secante:\n",
      "Raiz encontrada: 4.3232395437137425\n",
      "Número de iterações: 6\n",
      "\n"
     ]
    }
   ],
   "source": [
    "\n",
    "def medir_tempo(func):\n",
    "    def wrapper(*args, **kwargs):\n",
    "        inicio = time.time()\n",
    "        resultado = func(*args, **kwargs)\n",
    "        fim = time.time()\n",
    "        print(f\"Tempo de execução de {func.__name__}: {fim - inicio:.8f} segundos\")\n",
    "        return resultado\n",
    "    return wrapper\n",
    "\n",
    "def bissecao(f, a, b, tol=1e-10, max_iter=200):\n",
    "    n_iter = 0\n",
    "    if f(a)*f(b) > 0:\n",
    "        print(\"Não há raiz no intervalo\")\n",
    "        return None, None\n",
    "    while n_iter < max_iter:\n",
    "        c = (a + b)/2\n",
    "        if abs(f(c)) < tol:\n",
    "            return c, n_iter\n",
    "        elif f(a)*f(c) < 0:\n",
    "            b = c\n",
    "        else:\n",
    "            a = c\n",
    "        n_iter += 1\n",
    "    print(\"Não convergiu\")\n",
    "    return None, max_iter\n",
    "\n",
    "def falsa_posicao(f, a, b, tol=1e-10, max_iter=200):\n",
    "    n_iter = 0\n",
    "    if f(a)*f(b) > 0:\n",
    "        print(\"Não há raiz no intervalo\")\n",
    "        return None, None\n",
    "    while n_iter < max_iter:\n",
    "        c = (a*f(b) - b*f(a))/(f(b) - f(a))\n",
    "        if abs(f(c)) < tol:\n",
    "            return c, n_iter\n",
    "        elif f(a)*f(c) < 0:\n",
    "            b = c\n",
    "        else:\n",
    "            a = c\n",
    "        n_iter += 1\n",
    "    print(\"Não convergiu\")\n",
    "    return None, max_iter\n",
    "\n",
    "\n",
    "def ponto_fixo(f, g, x0, tol=1e-10, max_iter=200):\n",
    "    n_iter = 0\n",
    "    x_ant = x0\n",
    "    while n_iter < max_iter:\n",
    "        x_atual = g(x_ant)\n",
    "        if abs((x_atual - x_ant)/x_atual) < tol:\n",
    "            return x_atual, n_iter\n",
    "        x_ant = x_atual\n",
    "        n_iter += 1\n",
    "    print(\"Não convergiu\")\n",
    "    return None, max_iter\n",
    "\n",
    "def newton_raphson(f, df, x0, tol=1e-10, max_iter=200):\n",
    "    n_iter = 0\n",
    "    while n_iter < max_iter:\n",
    "        fx = f(x0)\n",
    "        dfx = df(x0)\n",
    "        x_atual = x0 - fx/dfx\n",
    "        if abs(x_atual - x0) < tol:\n",
    "            return x_atual, n_iter\n",
    "        x0 = x_atual\n",
    "        n_iter += 1\n",
    "    print(\"Não convergiu\")\n",
    "    return None, max_iter\n",
    "\n",
    "def secante(f, x0, x1, tol, max_iter):\n",
    "    n_iter = 0\n",
    "    while n_iter < max_iter:\n",
    "        f_x0 = f(x0)\n",
    "        f_x1 = f(x1)\n",
    "        x2 = x1 - (f_x1*(x1-x0))/(f_x1-f_x0)\n",
    "        if abs(f(x2)) < tol:\n",
    "            return x2, n_iter\n",
    "        x0, x1 = x1, x2\n",
    "        n_iter += 1\n",
    "    print(\"Não convergiu\")\n",
    "    return None, max_iter\n",
    "\n",
    "\n",
    "# Definindo a função\n",
    "f4 = lambda x: np.sin(x)*x + 4\n",
    "\n",
    "# Usando o método da bisseção\n",
    "raiz_bissecao_f4, n_iter_bissecao_f4 = bissecao(f4, 1, 5, 1e-10, 200)\n",
    "\n",
    "# Usando o método da falsa posição\n",
    "raiz_falsa_posicao_f4, n_iter_falsa_posicao_f4 = falsa_posicao(f4, 1, 5, 1e-10, 200)\n",
    "\n",
    "# Usando o método do ponto fixo\n",
    "g_f4 = lambda x: -4/np.sin(x)\n",
    "raiz_ponto_fixo_f4, n_iter_ponto_fixo_f4 = ponto_fixo(f4, g_f4, 1.5, 1e-10, 200)\n",
    "\n",
    "# Usando o método de Newton-Raphson\n",
    "df4 = lambda x: np.cos(x)*x + np.sin(x)\n",
    "raiz_newton_f4, n_iter_newton_f4 = newton_raphson(f4, df4, 1.5, 1e-10, 200)\n",
    "\n",
    "# Usando o método da secante\n",
    "raiz_secante_f4, n_iter_secante_f4 = secante(f4, 1, 5, 1e-10, 200)\n",
    "\n",
    "print(\"Método da bisseção:\")\n",
    "print(\"Raiz encontrada:\", raiz_bissecao_f4)\n",
    "print(\"Número de iterações:\", n_iter_bissecao_f4)\n",
    "\n",
    "print(\"Método da falsa posição:\")\n",
    "print(\"Raiz encontrada:\", raiz_falsa_posicao_f4)\n",
    "print(\"Número de iterações:\", n_iter_falsa_posicao_f4)\n",
    "\n",
    "print(\"Método do ponto fixo:\")\n",
    "print(\"Raiz encontrada:\", raiz_ponto_fixo_f4)\n",
    "print(\"Número de iterações:\", n_iter_ponto_fixo_f4)\n",
    "\n",
    "print(n_iter_newton_f4, raiz_newton_f4)\n",
    "\n",
    "print(\"Método da secante:\")\n",
    "print(\"Raiz encontrada:\", raiz_secante_f4)\n",
    "print(\"Número de iterações:\", n_iter_secante_f4)\n"
   ]
  }
 ],
 "metadata": {
  "kernelspec": {
   "display_name": "Python 3 (ipykernel)",
   "language": "python",
   "name": "python3"
  },
  "language_info": {
   "codemirror_mode": {
    "name": "ipython",
    "version": 3
   },
   "file_extension": ".py",
   "mimetype": "text/x-python",
   "name": "python",
   "nbconvert_exporter": "python",
   "pygments_lexer": "ipython3",
   "version": "3.9.7"
  }
 },
 "nbformat": 4,
 "nbformat_minor": 5
}
